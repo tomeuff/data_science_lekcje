{
  "nbformat": 4,
  "nbformat_minor": 0,
  "metadata": {
    "colab": {
      "provenance": [],
      "authorship_tag": "ABX9TyMljHtHM5ZLSiwSiJYaf+QA",
      "include_colab_link": true
    },
    "kernelspec": {
      "name": "python3",
      "display_name": "Python 3"
    },
    "language_info": {
      "name": "python"
    }
  },
  "cells": [
    {
      "cell_type": "markdown",
      "metadata": {
        "id": "view-in-github",
        "colab_type": "text"
      },
      "source": [
        "<a href=\"https://colab.research.google.com/github/tomeuff/data_science_lekcje/blob/main/numpy_wstep.ipynb\" target=\"_parent\"><img src=\"https://colab.research.google.com/assets/colab-badge.svg\" alt=\"Open In Colab\"/></a>"
      ]
    },
    {
      "cell_type": "code",
      "source": [
        "import numpy as np"
      ],
      "metadata": {
        "id": "SFPML6VSPsS6"
      },
      "execution_count": 4,
      "outputs": []
    },
    {
      "cell_type": "markdown",
      "source": [
        "Zadanie 1.1."
      ],
      "metadata": {
        "id": "-7fc_zH-PxSq"
      }
    },
    {
      "cell_type": "code",
      "source": [
        "print(dir(np))"
      ],
      "metadata": {
        "id": "zJQav_vYPzUy"
      },
      "execution_count": null,
      "outputs": []
    },
    {
      "cell_type": "markdown",
      "source": [
        "Zadanie 1.2."
      ],
      "metadata": {
        "id": "HNOlMEYgP3OG"
      }
    },
    {
      "cell_type": "code",
      "source": [
        "print(help(np))"
      ],
      "metadata": {
        "id": "upwLiSSWP4yS"
      },
      "execution_count": null,
      "outputs": []
    },
    {
      "cell_type": "markdown",
      "source": [
        "Zadanie 2.1."
      ],
      "metadata": {
        "id": "t_QA8j4hP_w4"
      }
    },
    {
      "cell_type": "code",
      "source": [
        "tab1D_1 = np.array([3, -1, 8, 9, 2, 7, 11])\n",
        "print(tab1D_1)\n",
        "print(tab1D_1.ndim)\n",
        "print(tab1D_1.shape)\n",
        "print(tab1D_1.size)\n",
        "print(tab1D_1.dtype)"
      ],
      "metadata": {
        "id": "yup6F1guQBIU"
      },
      "execution_count": null,
      "outputs": []
    },
    {
      "cell_type": "markdown",
      "source": [
        "Zadanie 2.2."
      ],
      "metadata": {
        "id": "J-3xbjc8Sj8h"
      }
    },
    {
      "cell_type": "code",
      "source": [
        "tab1D_2 = np.array([3, -1, 8, 9, 2, 7, 11], dtype = 'float')\n",
        "print(tab1D_2)"
      ],
      "metadata": {
        "id": "8vC4Fr-5SlUZ"
      },
      "execution_count": null,
      "outputs": []
    },
    {
      "cell_type": "markdown",
      "source": [
        "Zadanie 3.1."
      ],
      "metadata": {
        "id": "K6ufp9NEWeuY"
      }
    },
    {
      "cell_type": "code",
      "source": [
        "tab2D = np.array([[1, 4, 7], [2, 8, 11]])\n",
        "\n",
        "pom_tab3D = []\n",
        "for i in range(3):\n",
        "  pom_tab2D = []\n",
        "  for j in range(2):\n",
        "    pom_tab1D = []\n",
        "    for k in range(2):\n",
        "      pom_tab1D.append((i + 1) + (j + 1) + (k + 1))\n",
        "    pom_tab2D.append(pom_tab1D)\n",
        "  pom_tab3D.append(pom_tab2D)\n",
        "\n",
        "tab3D = np.array(pom_tab3D)\n",
        "\n",
        "print(tab2D)\n",
        "print()\n",
        "print(tab3D)\n"
      ],
      "metadata": {
        "id": "4aKski3yWf6o"
      },
      "execution_count": null,
      "outputs": []
    },
    {
      "cell_type": "markdown",
      "source": [
        "Zadanie 3.2."
      ],
      "metadata": {
        "id": "TWhS1tkKYjGp"
      }
    },
    {
      "cell_type": "code",
      "source": [
        "print(tab2D.ndim, tab3D.ndim)\n",
        "print(tab2D.shape, tab3D.shape)"
      ],
      "metadata": {
        "id": "2gKI6FnUYkTz"
      },
      "execution_count": null,
      "outputs": []
    },
    {
      "cell_type": "markdown",
      "source": [
        "Zadanie 4.1."
      ],
      "metadata": {
        "id": "qX0SJF0sY74p"
      }
    },
    {
      "cell_type": "code",
      "source": [
        "tab4_1 = np.zeros(shape = (6, 7), dtype = 'float')"
      ],
      "metadata": {
        "id": "y5pw2BkyY9nb"
      },
      "execution_count": null,
      "outputs": []
    },
    {
      "cell_type": "markdown",
      "source": [
        "Zadanie 4.2."
      ],
      "metadata": {
        "id": "PqZPQUZ_aZkX"
      }
    },
    {
      "cell_type": "code",
      "source": [
        "tab4_2 = np.ones(shape = (2, 3, 4))\n",
        "print(tab4_2)"
      ],
      "metadata": {
        "id": "bSt_Szuvaa4d"
      },
      "execution_count": null,
      "outputs": []
    },
    {
      "cell_type": "markdown",
      "source": [
        "Zadanie 4.3."
      ],
      "metadata": {
        "id": "vCzpzc8har0v"
      }
    },
    {
      "cell_type": "code",
      "source": [
        "import random\n",
        "liczba = random.randint(1, 100)\n",
        "tab4_3 = np.full(shape = (8, ), fill_value = liczba)\n",
        "print(tab4_3)"
      ],
      "metadata": {
        "id": "aDv5zn4matAd"
      },
      "execution_count": null,
      "outputs": []
    },
    {
      "cell_type": "markdown",
      "source": [
        "Zadanie 5.1."
      ],
      "metadata": {
        "id": "fQgqBj0EbU7m"
      }
    },
    {
      "cell_type": "code",
      "source": [
        "tab5_1 = np.arange(0, 1020, 20)"
      ],
      "metadata": {
        "id": "5EBaNNirbWHt"
      },
      "execution_count": null,
      "outputs": []
    },
    {
      "cell_type": "markdown",
      "source": [
        "Zadanie 5.2."
      ],
      "metadata": {
        "id": "0VjzG8jtcr83"
      }
    },
    {
      "cell_type": "code",
      "source": [
        "tab5_2 = np.arange(0, 1.01, 0.01)\n",
        "print(tab5_2)"
      ],
      "metadata": {
        "id": "UcBHHej1ctPj"
      },
      "execution_count": null,
      "outputs": []
    },
    {
      "cell_type": "markdown",
      "source": [
        "Zadanie 5.3."
      ],
      "metadata": {
        "id": "Dh3q5nCDc3SJ"
      }
    },
    {
      "cell_type": "code",
      "source": [
        "tab5_3 = np.linspace(0, 30, 50)\n",
        "print(tab5_3)"
      ],
      "metadata": {
        "id": "wcJxL6Qkc4mZ"
      },
      "execution_count": null,
      "outputs": []
    },
    {
      "cell_type": "markdown",
      "source": [
        "Zadanie 6.1."
      ],
      "metadata": {
        "id": "0H9E9aoSdJng"
      }
    },
    {
      "cell_type": "code",
      "source": [
        "import random\n",
        "tab6_1 = np.array([random.randint(1, 1001) for _ in range(20)])\n",
        "tab6_1_reshape = tab6_1.reshape((4, 5))\n",
        "print(tab6_1_reshape)"
      ],
      "metadata": {
        "id": "NdOK7pxJdKrw"
      },
      "execution_count": null,
      "outputs": []
    },
    {
      "cell_type": "markdown",
      "source": [
        "Zadanie 6.2."
      ],
      "metadata": {
        "id": "0m4BQ1ODfa6z"
      }
    },
    {
      "cell_type": "code",
      "source": [
        "import random\n",
        "tab6_2 = np.array([random.randint(1, 1001) for _ in range(50)])\n",
        "tab6_2_reshape = tab6_2.reshape((5, -1))\n",
        "print(tab6_2_reshape)"
      ],
      "metadata": {
        "id": "kb69YRCJfcIM"
      },
      "execution_count": null,
      "outputs": []
    },
    {
      "cell_type": "markdown",
      "source": [
        "Zadanie 6.3."
      ],
      "metadata": {
        "id": "djr0LeD7fuvr"
      }
    },
    {
      "cell_type": "code",
      "source": [
        "import random\n",
        "tab6_3 = np.array([random.randint(1, 1001) for _ in range(50)])\n",
        "tab6_3_reshape = tab6_3.reshape((5, 2, -1))\n",
        "print(tab6_3_reshape)"
      ],
      "metadata": {
        "id": "cFA418aBfwBy"
      },
      "execution_count": null,
      "outputs": []
    },
    {
      "cell_type": "markdown",
      "source": [
        "Zadanie 7."
      ],
      "metadata": {
        "id": "iTZSGeNJhOG9"
      }
    },
    {
      "cell_type": "code",
      "source": [
        "tab7 = np.array([[924, 130, 922, 87, 307],\n",
        "[706, 622, 995, 18, 62],\n",
        "[990, 673, 291, 517, 858],\n",
        "[914, 735, 561, 830, 492],\n",
        "[102, 234, 560, 450, 600]])\n",
        "\n",
        "for i in range(tab7.shape[0]):\n",
        "  print(tab7[i][i], end = ' ')"
      ],
      "metadata": {
        "id": "P6qzS-0ShRpm"
      },
      "execution_count": null,
      "outputs": []
    }
  ]
}